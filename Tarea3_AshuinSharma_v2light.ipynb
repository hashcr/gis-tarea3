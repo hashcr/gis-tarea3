version https://git-lfs.github.com/spec/v1
oid sha256:0f5c2416b678ff4403b051e5165d10485b0f00c4ecaa6769dd05b11754063099
size 9601
