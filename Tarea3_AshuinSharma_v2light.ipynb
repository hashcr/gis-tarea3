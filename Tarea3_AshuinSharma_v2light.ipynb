{
 "cells": [
  {
   "cell_type": "code",
   "execution_count": null,
   "id": "0a0e075d",
   "metadata": {},
   "outputs": [],
   "source": [
    "#!/usr/bin/env python\n",
    "# coding: utf-8\n",
    "# Autor: Ashuin Sharma (A35029)\n",
    "# Tarea 3.\n",
    "# Github Repo: https://github.com/hashcr/gis-tarea3/blob/main/Tarea3.ipynb\n",
    "\n",
    "import requests\n",
    "from owslib.wfs import WebFeatureService\n",
    "import pandas as pd\n",
    "import geopandas as gpd\n",
    "import folium\n",
    "import plotly.express as px"
   ]
  },
  {
   "cell_type": "markdown",
   "id": "918df157-7a68-4b2e-ba7c-da4670309c18",
   "metadata": {},
   "source": [
    "# 1. Cargando los datos de Cantones y Red Vial."
   ]
  },
  {
   "cell_type": "code",
   "execution_count": null,
   "id": "e9766c31-932f-48c1-80d6-05849fc2cbde",
   "metadata": {},
   "outputs": [],
   "source": [
    "# Cargar cantones y redvial GeoJSON de SNIT en GeoDataFrame\n",
    "print(\"Descargando capas de cantones y vias..\")\n",
    "\n",
    "# Carga de registros de Cantones en un dataframe de geopandas\n",
    "cantones = gpd.read_file(\"cantones.geojson\")\n",
    "\n",
    "# Carga de registros de RedVial en un dataframe de geopandas\n",
    "redvial = gpd.read_file(\"redvial.geojson\")\n",
    "print(\"Completado.\")"
   ]
  },
  {
   "cell_type": "markdown",
   "id": "9c8d9e03-106f-488f-9df5-a9f9c8680672",
   "metadata": {},
   "source": [
    "# 2. Calculando la intereseccion entre Red Vial y Cantones"
   ]
  },
  {
   "cell_type": "code",
   "execution_count": null,
   "id": "fdf6070c-08c3-4551-be22-1ba8474d466e",
   "metadata": {},
   "outputs": [],
   "source": [
    "# Filtro solo las columnas que necesito\n",
    "redvial = redvial[[\"categoria\", \"geometry\"]]\n",
    "cantones = cantones[[\"cod_canton\", \"canton\", \"geometry\", \"area\"]]\n",
    "# Corregimos el valor de area del canton a Km2\n",
    "cantones[\"area\"] = cantones[\"geometry\"].area / 1000000\n",
    "# Conseguir la interseccion de Cantones y Red Vial\n",
    "redvial_cantones = redvial.overlay(cantones, how=\"intersection\")"
   ]
  },
  {
   "cell_type": "code",
   "execution_count": null,
   "id": "4bf6c54e-1795-4d7b-a32b-6708ff12b6fa",
   "metadata": {},
   "outputs": [],
   "source": [
    "# Agregar colummna de longitud de cada intersect\n",
    "redvial_cantones[\"longitud_intersect\"] = redvial_cantones['geometry'].length/1000"
   ]
  },
  {
   "cell_type": "code",
   "execution_count": null,
   "id": "43ee881a-531d-4828-9cb7-1d1cf6b16093",
   "metadata": {},
   "outputs": [],
   "source": [
    "# Agrupo por canton y categoria sumando las intersecciones.\n",
    "rv_cant_cat_agrupado = redvial_cantones.groupby([\"cod_canton\",\"canton\",\"area\",\"categoria\"])[\"longitud_intersect\"].sum()\n",
    "# Convierto a Data Frame\n",
    "rv_cant_cat_agrupado = rv_cant_cat_agrupado.reset_index()\n",
    "\n",
    "# Calculo de la Longitud Total\n",
    "#Agrupoamos ahora por canton para que sume todas las categorias y quedemos con un DataFrame con 82 cantones\n",
    "rv_cant_agrupado = rv_cant_cat_agrupado.groupby([\"cod_canton\"])[\"longitud_intersect\"].sum()\n",
    "# Convertir a DataFrame\n",
    "rv_cant_agrupado = rv_cant_agrupado.reset_index()\n",
    "\n",
    "# Ahora unimos a la tabla de cantones con un Join para agregarle la columna de Longitud total\n",
    "tabla_cant = cantones.join(rv_cant_agrupado.set_index('cod_canton'), on='cod_canton', rsuffix='_b')\n",
    "tabla_cant.rename(columns = {'longitud_intersect': 'Longitud Total', 'area': 'Area', 'canton': 'Canton'}, inplace = True)\n",
    "\n",
    "# Calculo de la Densidad Total\n",
    "tabla_cant[\"Densidad Total\"] = tabla_cant[\"Longitud Total\"] / tabla_cant[\"Area\"] ;\n",
    "\n",
    "categorias = [\"Autopista\", \"Carretera Pavimento Dos Vias o Mas\", \"Carretera Pavimento Una Via\", \"Carretera Sin Pavimento Dos Vias\", \"Camino de Tierra\"]\n",
    "\n",
    "# Calculamos auto\n",
    "for cat in categorias:\n",
    "    temp_join = rv_cant_cat_agrupado.loc[rv_cant_cat_agrupado[\"categoria\"] == cat.upper()][[\"cod_canton\", \"longitud_intersect\"]]\n",
    "    tabla_cant = tabla_cant.join(temp_join.set_index('cod_canton'), on='cod_canton', rsuffix='_b')\n",
    "    tabla_cant.rename(columns = {'longitud_intersect': cat}, inplace = True)\n",
    "    tabla_cant[cat] = tabla_cant[cat].fillna(0)\n",
    "\n",
    "tabla_cant = tabla_cant.sort_values(\"cod_canton\", ascending=[True])"
   ]
  },
  {
   "cell_type": "markdown",
   "id": "69b3e7a0",
   "metadata": {},
   "source": [
    "# 1. Tabla de cantones"
   ]
  },
  {
   "cell_type": "code",
   "execution_count": null,
   "id": "2219e730-155e-4b4c-bab0-c3df39a21744",
   "metadata": {},
   "outputs": [],
   "source": [
    "# Tarea 3. Item 1. \n",
    "# Tabla de Cantones\n",
    "\n",
    "tabla_cant[[\"cod_canton\", \"Canton\", \"Autopista\", \"Carretera Pavimento Dos Vias o Mas\" , \"Carretera Pavimento Una Via\",\n",
    "            \"Carretera Sin Pavimento Dos Vias\", \"Camino de Tierra\", \"Longitud Total\", \"Densidad Total\"]]"
   ]
  },
  {
   "cell_type": "markdown",
   "id": "73913077",
   "metadata": {},
   "source": [
    "# 2. Top 15 Cantones"
   ]
  },
  {
   "cell_type": "code",
   "execution_count": null,
   "id": "c226cb6f",
   "metadata": {},
   "outputs": [],
   "source": [
    "# Instanciamos el gráfico de plotly y definios X como Cantón , Y como Longitud.\n",
    "# Y los colores los definirán las 5 categorias de vía.\n",
    "\n",
    "# Dataframe filtrado con los top 15 cantones como mayor red vial, para usar en graficación\n",
    "tabla_cant_grafico = tabla_cant.sort_values(\"Longitud Total\", ascending=[False]).head(15)\n",
    "\n",
    "fig = px.bar(tabla_cant_grafico, \n",
    "             x='Canton', \n",
    "             y=[\"Autopista\", \"Carretera Pavimento Dos Vias o Mas\" , \"Carretera Pavimento Una Via\",\n",
    "                \"Carretera Sin Pavimento Dos Vias\", \"Camino de Tierra\"], \n",
    "             title=\"Top 15 cantones con mayor longitud total de red vial (tipo de vía).\",\n",
    "             labels={\n",
    "                \"value\": \"Longitud vial (Km)\", \"variable\": \"Tipos de vía\", \"Canton\" : \"Cantón\"\n",
    "            })\n",
    "\n",
    "fig.show()"
   ]
  },
  {
   "cell_type": "markdown",
   "id": "af84ccf3",
   "metadata": {},
   "source": [
    "# 3. Gráfico de Pastel. Distribución Total de Red Vial por Cantones."
   ]
  },
  {
   "cell_type": "code",
   "execution_count": null,
   "id": "e8d5afd9",
   "metadata": {},
   "outputs": [],
   "source": [
    "# Dataframe filtrado con los top 15 cantones como mayor red vial, para usar en graficación\n",
    "tabla_cant_filtro = tabla_cant.sort_values(\"Longitud Total\", ascending=[False]).head(15)\n",
    "\n",
    "# Obtengo el valor del ultimo canton\n",
    "nth_row = 14\n",
    "tabla_cant_filtro = tabla_cant_filtro.iloc[nth_row]\n",
    "ultimo = tabla_cant_filtro[\"Longitud Total\"]\n",
    "\n",
    "# Ahora traigo todos pero ordenados y modifico la variable canton de los menores al 15vo.\n",
    "tabla_cant_pie = tabla_cant.sort_values(\"Longitud Total\", ascending=[False])\n",
    "tabla_cant_pie.loc[tabla_cant_pie['Longitud Total'] < ultimo, 'Canton'] = 'Otros'\n",
    "\n",
    "# Creacion del Pie Chart\n",
    "fig = px.pie(tabla_cant_pie, values='Longitud Total', names='Canton', title='Gráfico de Pastel. Distribución Total de Red Vial por Cantones.')\n",
    "fig.show()"
   ]
  },
  {
   "cell_type": "markdown",
   "id": "285383af",
   "metadata": {},
   "source": [
    "## 4. Mapa de coropletas Densidad Vial de Costa Rica."
   ]
  },
  {
   "cell_type": "code",
   "execution_count": null,
   "id": "9494b41f",
   "metadata": {
    "scrolled": true
   },
   "outputs": [],
   "source": [
    "\n",
    "\n",
    "# Creación del mapa base\n",
    "m = folium.Map(location=[9.8, -84], \n",
    "               tiles='CartoDB positron',\n",
    "               control_scale=True,\n",
    "               zoom_start=8)\n",
    "\n",
    "folium.Choropleth(\n",
    "    name=\"Densidad Vial\",\n",
    "    geo_data=cantones,\n",
    "    data=tabla_cant,\n",
    "    columns=['cod_canton', 'Densidad Total'],\n",
    "    bins=7,\n",
    "    key_on='feature.properties.cod_canton',\n",
    "    fill_color='Reds', \n",
    "    fill_opacity=0.8, \n",
    "    line_opacity=1,\n",
    "    legend_name='Densidad vial por cantón',\n",
    "    width=800, height=700,\n",
    "    smooth_factor=0).add_to(m)\n",
    "\n",
    "# Añadir capa de Red Vial\n",
    "folium.GeoJson(data=redvial, name='Red vial').add_to(m)\n",
    "\n",
    "# Control de capas\n",
    "folium.LayerControl().add_to(m)\n",
    "\n",
    "# Despliegue del mapa\n",
    "m"
   ]
  },
  {
   "cell_type": "code",
   "execution_count": null,
   "id": "579fdb3a-c51f-4d02-951b-bcbcdeb529fd",
   "metadata": {},
   "outputs": [],
   "source": []
  }
 ],
 "metadata": {
  "kernelspec": {
   "display_name": "Python 3 (ipykernel)",
   "language": "python",
   "name": "python3"
  },
  "language_info": {
   "codemirror_mode": {
    "name": "ipython",
    "version": 3
   },
   "file_extension": ".py",
   "mimetype": "text/x-python",
   "name": "python",
   "nbconvert_exporter": "python",
   "pygments_lexer": "ipython3",
   "version": "3.10.2"
  },
  "widgets": {
   "application/vnd.jupyter.widget-state+json": {
    "state": {},
    "version_major": 2,
    "version_minor": 0
   }
  }
 },
 "nbformat": 4,
 "nbformat_minor": 5
}
