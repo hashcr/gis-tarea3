version https://git-lfs.github.com/spec/v1
oid sha256:02da221e7c4ea5dd0ac634ba7afae3ee1efb0d1918f7e4d7e21aae65478a1a23
size 107911624
